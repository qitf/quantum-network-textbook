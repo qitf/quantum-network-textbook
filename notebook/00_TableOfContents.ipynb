{
 "cells": [
  {
   "cell_type": "markdown",
   "id": "c0149f0d-f80c-4f07-83bb-9db005e75ddb",
   "metadata": {},
   "source": [
    "# Table of Contents"
   ]
  },
  {
   "cell_type": "markdown",
   "id": "6e3421c5-643f-496b-bbc5-a75d51058730",
   "metadata": {},
   "source": [
    "## ただの列挙\n",
    "- [ ] エンタングル状態の作り方\n",
    "    - [x] ゲートで作る場合\n",
    "    - [ ] 自然に物質から作る場合\n",
    "- [x] 量子テレポーテーション\n",
    "- [ ] 光子の直接伝送ができない場合があること\n",
    "- [ ] エンタングルメントスワッピング\n",
    "- [ ] リモートCNOT\n",
    "- [ ] 量子データテレポーテーション\n",
    "- [ ] 量子ゲートテレポーテーション\n",
    "- [ ] エンタングルメントのフィデリティ測定\n",
    "- [ ] エンタングルメント蒸留"
   ]
  },
  {
   "cell_type": "code",
   "execution_count": null,
   "id": "dfd66ce0-b667-4323-89aa-e3236f05ece4",
   "metadata": {},
   "outputs": [],
   "source": []
  }
 ],
 "metadata": {
  "kernelspec": {
   "display_name": "Python 3 (ipykernel)",
   "language": "python",
   "name": "python3"
  },
  "language_info": {
   "codemirror_mode": {
    "name": "ipython",
    "version": 3
   },
   "file_extension": ".py",
   "mimetype": "text/x-python",
   "name": "python",
   "nbconvert_exporter": "python",
   "pygments_lexer": "ipython3",
   "version": "3.10.13"
  }
 },
 "nbformat": 4,
 "nbformat_minor": 5
}
